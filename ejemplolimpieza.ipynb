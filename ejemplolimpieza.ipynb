{
 "cells": [
  {
   "cell_type": "code",
   "execution_count": 15,
   "metadata": {},
   "outputs": [
    {
     "name": "stdout",
     "output_type": "stream",
     "text": [
      "Describe:              Edad       Salario\n",
      "count  10.000000     10.000000\n",
      "mean   25.300000  54000.000000\n",
      "std     2.451757   5354.126135\n",
      "min    22.000000  48000.000000\n",
      "25%    24.000000  49250.000000\n",
      "50%    24.500000  53000.000000\n",
      "75%    26.750000  58750.000000\n",
      "max    30.000000  62000.000000\n"
     ]
    }
   ],
   "source": [
    "import pandas as pd\n",
    "\n",
    "data = {\n",
    "    'Edad':[23, 25, 26, 24, 30, 24, 22, 28, 27, 24],\n",
    "    'Salario':[48000, 52000, 58000, 49000, 60000, 48000, 50000, 62000, 59000, 54000]\n",
    "}\n",
    "\n",
    "df = pd.DataFrame(data)\n",
    "print(\"Describe: \", df.describe())"
   ]
  },
  {
   "cell_type": "code",
   "execution_count": 16,
   "metadata": {},
   "outputs": [],
   "source": [
    "media_edad = df['Edad'].mean()\n",
    "media_salario = df['Salario'].mean()\n",
    "\n",
    "mediana_edad = df['Edad'].median()\n",
    "mediana_salario = df['Salario'].median()\n",
    "\n",
    "moda_edad = df['Edad'].mode()[0]\n",
    "moda_salario = df['Salario'].mode()[0]\n",
    "\n",
    "rango_edad = df['Edad'].max() - df['Edad'].min()\n",
    "rango_salario = df['Salario'].max() - df['Salario'].min()\n",
    "\n",
    "varianza_edad = df['Edad'].var()\n",
    "varianza_salario = df['Salario'].var()\n",
    "\n",
    "desviacion_edad = df['Edad'].std()\n",
    "desviacion_salario = df['Salario'].std()\n",
    "\n",
    "#Calculo de los percentiles\n",
    "percentil_25_edad = df['Edad'].quantile(0.25)\n",
    "percentil_50_edad = df['Edad'].quantile(0.50)\n",
    "percentil_75_edad = df['Edad'].quantile(0.75)\n",
    "\n",
    "percentil_25_sal = df['Salario'].quantile(0.25)\n",
    "percentil_50_sal = df['Salario'].quantile(0.50)\n",
    "percentil_75_sal = df['Salario'].quantile(0.75)\n",
    "\n",
    "#Los cuartiles son los percentiles\n",
    "cuartil_1_edad = percentil_25_edad\n",
    "cuartil_2_edad = percentil_50_edad\n",
    "cuartil_3_edad = percentil_75_edad\n",
    "\n",
    "cuartil_1_sal = percentil_25_sal\n",
    "cuartil_2_sal = percentil_50_sal\n",
    "cuartil_3_sal = percentil_75_sal\\\n",
    "\n",
    "#Caclular los deciles\n",
    "deciles_edad = df['Edad'].quantile([i/10 for i in range(1,10)])\n",
    "deciles_salario = df['Salario'].quantile([i/10 for i in range(1,10)])\n"
   ]
  },
  {
   "cell_type": "code",
   "execution_count": 17,
   "metadata": {},
   "outputs": [
    {
     "name": "stdout",
     "output_type": "stream",
     "text": [
      "Medidas de Tendencia Central\n",
      "Media - Edad: 25.300 Salario: 54000.000\n",
      "Mediana - Edad: 24.5 , Salario: 53000.0\n",
      "Moda - Edad: 24 , Salario: 48000\n",
      "Medidas de Dispersión\n",
      "Rango - Edad: 8 , Salario: 14000\n",
      "Varianza - Edad: 6.011111111111111 , Salario: 28666666.666666668\n",
      "Desviación Estándar - Edad: 2.4517567397911058 , Salario: 5354.126134736337\n",
      "Medidas de Posición\n",
      "Percentiles - Edad: 25%, 24.0 50%, 24.5 75%, 26.75\n",
      "Percentiles - Salario: 25%, 49250.0 50%, 53000.0 75%, 58750.0\n",
      "Cuartiles - Edad: Q1 24.0 Q2 24.5 Q3 26.75\n",
      "Cuartiles - Salario: Q1 49250.0 Q2 53000.0 Q3 58750.0\n",
      "Deciles de edad 0.1    22.9\n",
      "0.2    23.8\n",
      "0.3    24.0\n",
      "0.4    24.0\n",
      "0.5    24.5\n",
      "0.6    25.4\n",
      "0.7    26.3\n",
      "0.8    27.2\n",
      "0.9    28.2\n",
      "Name: Edad, dtype: float64\n",
      "Deciales de salario 0.1    48000.0\n",
      "0.2    48800.0\n",
      "0.3    49700.0\n",
      "0.4    51200.0\n",
      "0.5    53000.0\n",
      "0.6    55600.0\n",
      "0.7    58300.0\n",
      "0.8    59200.0\n",
      "0.9    60200.0\n",
      "Name: Salario, dtype: float64\n"
     ]
    }
   ],
   "source": [
    "# Mostrar Resultados\n",
    "print(\"Medidas de Tendencia Central\")\n",
    "print(f\"Media - Edad: {media_edad:0.3f} Salario: {media_salario:0.3f}\")\n",
    "print(\"Mediana - Edad:\", mediana_edad, \", Salario:\", mediana_salario)\n",
    "print(\"Moda - Edad:\", moda_edad, \", Salario:\", moda_salario)\n",
    "\n",
    "print(\"Medidas de Dispersión\")\n",
    "print(\"Rango - Edad:\", rango_edad, \", Salario:\", rango_salario)\n",
    "print(\"Varianza - Edad:\", varianza_edad, \", Salario:\", varianza_salario)\n",
    "print(\"Desviación Estándar - Edad:\", desviacion_edad, \", Salario:\", desviacion_salario)\n",
    "\n",
    "print(\"Medidas de Posición\")\n",
    "print(\"Percentiles - Edad: 25%,\", percentil_25_edad, \"50%,\", percentil_50_edad, \"75%,\", percentil_75_edad)\n",
    "print(\"Percentiles - Salario: 25%,\", percentil_25_sal, \"50%,\", percentil_50_sal, \"75%,\", percentil_75_sal)\n",
    "\n",
    "print(\"Cuartiles - Edad: Q1\", cuartil_1_edad, \"Q2\", cuartil_2_edad, \"Q3\", cuartil_3_edad)\n",
    "print(\"Cuartiles - Salario: Q1\", cuartil_1_sal, \"Q2\", cuartil_2_sal, \"Q3\", cuartil_3_sal)\n",
    "\n",
    "print(\"Deciles de edad\", deciles_edad)\n",
    "print(\"Deciales de salario\", deciles_salario)"
   ]
  }
 ],
 "metadata": {
  "kernelspec": {
   "display_name": ".venv",
   "language": "python",
   "name": "python3"
  },
  "language_info": {
   "codemirror_mode": {
    "name": "ipython",
    "version": 3
   },
   "file_extension": ".py",
   "mimetype": "text/x-python",
   "name": "python",
   "nbconvert_exporter": "python",
   "pygments_lexer": "ipython3",
   "version": "3.13.0"
  }
 },
 "nbformat": 4,
 "nbformat_minor": 2
}
