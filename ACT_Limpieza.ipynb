{
 "cells": [
  {
   "cell_type": "markdown",
   "metadata": {},
   "source": [
    "Actividad Limpieza de base de datos - Bike buyers"
   ]
  },
  {
   "cell_type": "markdown",
   "metadata": {},
   "source": [
    "Mario Alberto Perez Barrera - A01799928\n",
    "\n",
    "Marco Antonio Gonzalez Fernandez - A01799122"
   ]
  },
  {
   "cell_type": "markdown",
   "metadata": {},
   "source": [
    "ETAPA DE INSPECCION"
   ]
  },
  {
   "cell_type": "code",
   "execution_count": 5,
   "metadata": {},
   "outputs": [],
   "source": [
    "#Importar las librerias necesarias\n",
    "import pandas as pd\n",
    "\n",
    "# Cargar el archivo CSV\n",
    "df = pd.read_csv('bike_buyers.csv')"
   ]
  },
  {
   "cell_type": "code",
   "execution_count": 6,
   "metadata": {},
   "outputs": [
    {
     "name": "stdout",
     "output_type": "stream",
     "text": [
      "Primeras filas del conjunto de datos:\n"
     ]
    },
    {
     "data": {
      "text/html": [
       "<div>\n",
       "<style scoped>\n",
       "    .dataframe tbody tr th:only-of-type {\n",
       "        vertical-align: middle;\n",
       "    }\n",
       "\n",
       "    .dataframe tbody tr th {\n",
       "        vertical-align: top;\n",
       "    }\n",
       "\n",
       "    .dataframe thead th {\n",
       "        text-align: right;\n",
       "    }\n",
       "</style>\n",
       "<table border=\"1\" class=\"dataframe\">\n",
       "  <thead>\n",
       "    <tr style=\"text-align: right;\">\n",
       "      <th></th>\n",
       "      <th>ID</th>\n",
       "      <th>Marital Status</th>\n",
       "      <th>Gender</th>\n",
       "      <th>Income</th>\n",
       "      <th>Children</th>\n",
       "      <th>Education</th>\n",
       "      <th>Occupation</th>\n",
       "      <th>Home Owner</th>\n",
       "      <th>Cars</th>\n",
       "      <th>Commute Distance</th>\n",
       "      <th>Region</th>\n",
       "      <th>Age</th>\n",
       "      <th>Purchased Bike</th>\n",
       "    </tr>\n",
       "  </thead>\n",
       "  <tbody>\n",
       "    <tr>\n",
       "      <th>0</th>\n",
       "      <td>12591</td>\n",
       "      <td>Married</td>\n",
       "      <td>Female</td>\n",
       "      <td>30,000</td>\n",
       "      <td>4.0</td>\n",
       "      <td>Graduate Degree</td>\n",
       "      <td>Clerical</td>\n",
       "      <td>Yes</td>\n",
       "      <td>0.0</td>\n",
       "      <td>0-1 Miles</td>\n",
       "      <td>Europe</td>\n",
       "      <td>45.0</td>\n",
       "      <td>No</td>\n",
       "    </tr>\n",
       "    <tr>\n",
       "      <th>1</th>\n",
       "      <td>14058</td>\n",
       "      <td>Single</td>\n",
       "      <td>Male</td>\n",
       "      <td>70,000</td>\n",
       "      <td>0.0</td>\n",
       "      <td>Bachelors</td>\n",
       "      <td>Professional</td>\n",
       "      <td>No</td>\n",
       "      <td>1.0</td>\n",
       "      <td>5-10 Miles</td>\n",
       "      <td>Pacific</td>\n",
       "      <td>41.0</td>\n",
       "      <td>Yes</td>\n",
       "    </tr>\n",
       "    <tr>\n",
       "      <th>2</th>\n",
       "      <td>23962</td>\n",
       "      <td>Married</td>\n",
       "      <td>Female</td>\n",
       "      <td>10,000</td>\n",
       "      <td>0.0</td>\n",
       "      <td>Partial High School</td>\n",
       "      <td>Manual</td>\n",
       "      <td>Yes</td>\n",
       "      <td>2.0</td>\n",
       "      <td>1-2 Miles</td>\n",
       "      <td>Europe</td>\n",
       "      <td>32.0</td>\n",
       "      <td>No</td>\n",
       "    </tr>\n",
       "    <tr>\n",
       "      <th>3</th>\n",
       "      <td>23419</td>\n",
       "      <td>Single</td>\n",
       "      <td>Female</td>\n",
       "      <td>70,000</td>\n",
       "      <td>5.0</td>\n",
       "      <td>Bachelors</td>\n",
       "      <td>Professional</td>\n",
       "      <td>Yes</td>\n",
       "      <td>3.0</td>\n",
       "      <td>10+ Miles</td>\n",
       "      <td>Pacific</td>\n",
       "      <td>39.0</td>\n",
       "      <td>No</td>\n",
       "    </tr>\n",
       "    <tr>\n",
       "      <th>4</th>\n",
       "      <td>21940</td>\n",
       "      <td>Married</td>\n",
       "      <td>Male</td>\n",
       "      <td>90,000</td>\n",
       "      <td>5.0</td>\n",
       "      <td>Graduate Degree</td>\n",
       "      <td>Professional</td>\n",
       "      <td>Yes</td>\n",
       "      <td>0.0</td>\n",
       "      <td>0-1 Miles</td>\n",
       "      <td>North America</td>\n",
       "      <td>47.0</td>\n",
       "      <td>Yes</td>\n",
       "    </tr>\n",
       "  </tbody>\n",
       "</table>\n",
       "</div>"
      ],
      "text/plain": [
       "      ID Marital Status  Gender  Income  Children            Education  \\\n",
       "0  12591        Married  Female  30,000       4.0      Graduate Degree   \n",
       "1  14058         Single    Male  70,000       0.0            Bachelors   \n",
       "2  23962        Married  Female  10,000       0.0  Partial High School   \n",
       "3  23419         Single  Female  70,000       5.0            Bachelors   \n",
       "4  21940        Married    Male  90,000       5.0      Graduate Degree   \n",
       "\n",
       "     Occupation Home Owner  Cars Commute Distance         Region   Age  \\\n",
       "0      Clerical        Yes   0.0        0-1 Miles         Europe  45.0   \n",
       "1  Professional         No   1.0       5-10 Miles        Pacific  41.0   \n",
       "2        Manual        Yes   2.0        1-2 Miles         Europe  32.0   \n",
       "3  Professional        Yes   3.0        10+ Miles        Pacific  39.0   \n",
       "4  Professional        Yes   0.0        0-1 Miles  North America  47.0   \n",
       "\n",
       "  Purchased Bike  \n",
       "0             No  \n",
       "1            Yes  \n",
       "2             No  \n",
       "3             No  \n",
       "4            Yes  "
      ]
     },
     "execution_count": 6,
     "metadata": {},
     "output_type": "execute_result"
    }
   ],
   "source": [
    "# Inspección inicial\n",
    "print(\"Primeras filas del conjunto de datos:\")\n",
    "df.head()"
   ]
  },
  {
   "cell_type": "code",
   "execution_count": 7,
   "metadata": {},
   "outputs": [
    {
     "name": "stdout",
     "output_type": "stream",
     "text": [
      "<class 'pandas.core.frame.DataFrame'>\n",
      "RangeIndex: 1251 entries, 0 to 1250\n",
      "Data columns (total 13 columns):\n",
      " #   Column            Non-Null Count  Dtype  \n",
      "---  ------            --------------  -----  \n",
      " 0   ID                1251 non-null   int64  \n",
      " 1   Marital Status    1244 non-null   object \n",
      " 2   Gender            1238 non-null   object \n",
      " 3   Income            1243 non-null   object \n",
      " 4   Children          1238 non-null   float64\n",
      " 5   Education         1251 non-null   object \n",
      " 6   Occupation        1251 non-null   object \n",
      " 7   Home Owner        1247 non-null   object \n",
      " 8   Cars              1242 non-null   float64\n",
      " 9   Commute Distance  1251 non-null   object \n",
      " 10  Region            1251 non-null   object \n",
      " 11  Age               1238 non-null   float64\n",
      " 12  Purchased Bike    1251 non-null   object \n",
      "dtypes: float64(3), int64(1), object(9)\n",
      "memory usage: 127.2+ KB\n"
     ]
    }
   ],
   "source": [
    "#Lectura de la informacion de la base de datos\n",
    "df.info()"
   ]
  },
  {
   "cell_type": "code",
   "execution_count": 8,
   "metadata": {},
   "outputs": [
    {
     "data": {
      "text/html": [
       "<div>\n",
       "<style scoped>\n",
       "    .dataframe tbody tr th:only-of-type {\n",
       "        vertical-align: middle;\n",
       "    }\n",
       "\n",
       "    .dataframe tbody tr th {\n",
       "        vertical-align: top;\n",
       "    }\n",
       "\n",
       "    .dataframe thead th {\n",
       "        text-align: right;\n",
       "    }\n",
       "</style>\n",
       "<table border=\"1\" class=\"dataframe\">\n",
       "  <thead>\n",
       "    <tr style=\"text-align: right;\">\n",
       "      <th></th>\n",
       "      <th>ID</th>\n",
       "      <th>Children</th>\n",
       "      <th>Cars</th>\n",
       "      <th>Age</th>\n",
       "    </tr>\n",
       "  </thead>\n",
       "  <tbody>\n",
       "    <tr>\n",
       "      <th>count</th>\n",
       "      <td>1251.000000</td>\n",
       "      <td>1238.000000</td>\n",
       "      <td>1242.000000</td>\n",
       "      <td>1238.000000</td>\n",
       "    </tr>\n",
       "    <tr>\n",
       "      <th>mean</th>\n",
       "      <td>20030.208633</td>\n",
       "      <td>1.929725</td>\n",
       "      <td>1.479066</td>\n",
       "      <td>44.058966</td>\n",
       "    </tr>\n",
       "    <tr>\n",
       "      <th>std</th>\n",
       "      <td>5331.451777</td>\n",
       "      <td>1.638977</td>\n",
       "      <td>1.121885</td>\n",
       "      <td>11.271138</td>\n",
       "    </tr>\n",
       "    <tr>\n",
       "      <th>min</th>\n",
       "      <td>11000.000000</td>\n",
       "      <td>0.000000</td>\n",
       "      <td>0.000000</td>\n",
       "      <td>25.000000</td>\n",
       "    </tr>\n",
       "    <tr>\n",
       "      <th>25%</th>\n",
       "      <td>15465.000000</td>\n",
       "      <td>0.000000</td>\n",
       "      <td>1.000000</td>\n",
       "      <td>35.000000</td>\n",
       "    </tr>\n",
       "    <tr>\n",
       "      <th>50%</th>\n",
       "      <td>19731.000000</td>\n",
       "      <td>2.000000</td>\n",
       "      <td>1.000000</td>\n",
       "      <td>43.000000</td>\n",
       "    </tr>\n",
       "    <tr>\n",
       "      <th>75%</th>\n",
       "      <td>24549.000000</td>\n",
       "      <td>3.000000</td>\n",
       "      <td>2.000000</td>\n",
       "      <td>52.000000</td>\n",
       "    </tr>\n",
       "    <tr>\n",
       "      <th>max</th>\n",
       "      <td>29447.000000</td>\n",
       "      <td>5.000000</td>\n",
       "      <td>4.000000</td>\n",
       "      <td>89.000000</td>\n",
       "    </tr>\n",
       "  </tbody>\n",
       "</table>\n",
       "</div>"
      ],
      "text/plain": [
       "                 ID     Children         Cars          Age\n",
       "count   1251.000000  1238.000000  1242.000000  1238.000000\n",
       "mean   20030.208633     1.929725     1.479066    44.058966\n",
       "std     5331.451777     1.638977     1.121885    11.271138\n",
       "min    11000.000000     0.000000     0.000000    25.000000\n",
       "25%    15465.000000     0.000000     1.000000    35.000000\n",
       "50%    19731.000000     2.000000     1.000000    43.000000\n",
       "75%    24549.000000     3.000000     2.000000    52.000000\n",
       "max    29447.000000     5.000000     4.000000    89.000000"
      ]
     },
     "execution_count": 8,
     "metadata": {},
     "output_type": "execute_result"
    }
   ],
   "source": [
    "#Resumen estadístico de el DataFrame.\n",
    "df.describe()"
   ]
  },
  {
   "cell_type": "code",
   "execution_count": 9,
   "metadata": {},
   "outputs": [
    {
     "name": "stdout",
     "output_type": "stream",
     "text": [
      "ID                   0\n",
      "Marital Status       7\n",
      "Gender              13\n",
      "Income               8\n",
      "Children            13\n",
      "Education            0\n",
      "Occupation           0\n",
      "Home Owner           4\n",
      "Cars                 9\n",
      "Commute Distance     0\n",
      "Region               0\n",
      "Age                 13\n",
      "Purchased Bike       0\n",
      "dtype: int64\n"
     ]
    }
   ],
   "source": [
    "# Revisión de valores faltantes\n",
    "print(df.isnull().sum())"
   ]
  },
  {
   "cell_type": "code",
   "execution_count": 13,
   "metadata": {},
   "outputs": [
    {
     "name": "stdout",
     "output_type": "stream",
     "text": [
      "ID                    int64\n",
      "Marital Status       object\n",
      "Gender               object\n",
      "Income               object\n",
      "Children            float64\n",
      "Education            object\n",
      "Occupation           object\n",
      "Home Owner           object\n",
      "Cars                float64\n",
      "Commute Distance     object\n",
      "Region               object\n",
      "Age                 float64\n",
      "Purchased Bike       object\n",
      "dtype: object\n"
     ]
    }
   ],
   "source": [
    "#Revisar si alguna columna numérica se cargó como 'object'\n",
    "print(df.dtypes)"
   ]
  },
  {
   "cell_type": "markdown",
   "metadata": {},
   "source": [
    "ETAPA DE LIMPIEZA"
   ]
  },
  {
   "cell_type": "code",
   "execution_count": 12,
   "metadata": {},
   "outputs": [
    {
     "name": "stdout",
     "output_type": "stream",
     "text": [
      "Empty DataFrame\n",
      "Columns: [ID, Marital Status, Gender, Income, Children, Education, Occupation, Home Owner, Cars, Commute Distance, Region, Age, Purchased Bike]\n",
      "Index: []\n",
      "Empty DataFrame\n",
      "Columns: [ID, Marital Status, Gender, Income, Children, Education, Occupation, Home Owner, Cars, Commute Distance, Region, Age, Purchased Bike]\n",
      "Index: []\n"
     ]
    }
   ],
   "source": [
    "#Identificación de datos fuera del rango esperado\n",
    "#La columna 'Age' tiene un rango de 0 a 100\n",
    "\n",
    "print(df[df['Age'] < 0])  # Ver si hay edades negativas\n",
    "print(df[df['Age'] > 100])  # Ver si hay edades inusualmente altas"
   ]
  },
  {
   "cell_type": "code",
   "execution_count": 14,
   "metadata": {},
   "outputs": [],
   "source": [
    "# Transformar columnas numéricas que están como 'object', eliminando comas si es necesario\n",
    "df['Income'] = pd.to_numeric(df['Income'].str.replace(',', ''), errors='coerce')"
   ]
  },
  {
   "cell_type": "code",
   "execution_count": 15,
   "metadata": {},
   "outputs": [
    {
     "name": "stdout",
     "output_type": "stream",
     "text": [
      "ID                    int64\n",
      "Marital Status       object\n",
      "Gender               object\n",
      "Income              float64\n",
      "Children            float64\n",
      "Education            object\n",
      "Occupation           object\n",
      "Home Owner           object\n",
      "Cars                float64\n",
      "Commute Distance     object\n",
      "Region               object\n",
      "Age                 float64\n",
      "Purchased Bike       object\n",
      "dtype: object\n"
     ]
    }
   ],
   "source": [
    "# Verificar que los tipos de datos ahora sean correctos\n",
    "\n",
    "print(df.dtypes)"
   ]
  },
  {
   "cell_type": "code",
   "execution_count": 16,
   "metadata": {},
   "outputs": [],
   "source": [
    "# Si hay duplicados, eliminarlos\n",
    "df = df.drop_duplicates()"
   ]
  },
  {
   "cell_type": "code",
   "execution_count": 20,
   "metadata": {},
   "outputs": [],
   "source": [
    "df['Children'] = df['Children'].fillna(df['Children'].median())"
   ]
  },
  {
   "cell_type": "code",
   "execution_count": 21,
   "metadata": {},
   "outputs": [],
   "source": [
    "# Rellenar valores faltantes con la mediana en las columnas numéricas\n",
    "df['Children'] = df['Children'].fillna(df['Children'].median())\n",
    "df['Cars'] = df['Cars'].fillna(df['Cars'].median())\n",
    "\n",
    "# Si hay valores faltantes en otras columnas categóricas, rellenarlos con el valor más frecuente\n",
    "df['Gender'] = df['Gender'].fillna(df['Gender'].mode()[0])\n",
    "df['Home Owner'] = df['Home Owner'].fillna(df['Home Owner'].mode()[0])\n",
    "df['Marital Status'] = df['Marital Status'].fillna(df['Marital Status'].mode()[0])\n",
    "df['Income'] = df['Income'].fillna(df['Income'].mode()[0])\n",
    "df['Age'] = df['Age'].fillna(df['Age'].mode()[0])\n"
   ]
  },
  {
   "cell_type": "code",
   "execution_count": 23,
   "metadata": {},
   "outputs": [
    {
     "name": "stdout",
     "output_type": "stream",
     "text": [
      "ID                  0\n",
      "Marital Status      0\n",
      "Gender              0\n",
      "Income              0\n",
      "Children            0\n",
      "Education           0\n",
      "Occupation          0\n",
      "Home Owner          0\n",
      "Cars                0\n",
      "Commute Distance    0\n",
      "Region              0\n",
      "Age                 0\n",
      "Purchased Bike      0\n",
      "dtype: int64\n"
     ]
    }
   ],
   "source": [
    "# Verificar nuevamente si existen valores faltantes\n",
    "print(df.isnull().sum())"
   ]
  },
  {
   "cell_type": "code",
   "execution_count": 24,
   "metadata": {},
   "outputs": [],
   "source": [
    "# Guardar los datos limpios en un nuevo archivo CSV\n",
    "df.to_csv('datos_limpiados.csv', index=False)\n"
   ]
  },
  {
   "cell_type": "markdown",
   "metadata": {},
   "source": [
    "GRAFICOS"
   ]
  },
  {
   "cell_type": "code",
   "execution_count": 25,
   "metadata": {},
   "outputs": [
    {
     "data": {
      "text/plain": [
       "<Axes: ylabel='Density'>"
      ]
     },
     "execution_count": 25,
     "metadata": {},
     "output_type": "execute_result"
    },
    {
     "data": {
      "image/png": "[encoded data removed]",
      "text/plain": [
       "<Figure size 640x480 with 1 Axes>"
      ]
     },
     "metadata": {},
     "output_type": "display_data"
    }
   ],
   "source": [
    "#Estimación de Densidad Kernel (KDE) para la columna \"Age\"\n",
    "df[\"Age\"].plot.kde()"
   ]
  },
  {
   "cell_type": "code",
   "execution_count": 29,
   "metadata": {},
   "outputs": [
    {
     "data": {
      "text/plain": [
       "<Axes: ylabel='Frequency'>"
      ]
     },
     "execution_count": 29,
     "metadata": {},
     "output_type": "execute_result"
    },
    {
     "data": {
      "image/png": "[encoded data removed]",
      "text/plain": [
       "<Figure size 640x480 with 1 Axes>"
      ]
     },
     "metadata": {},
     "output_type": "display_data"
    }
   ],
   "source": [
    "# Histograma de la columna Income\n",
    "df[\"Income\"].plot.hist()"
   ]
  },
  {
   "cell_type": "code",
   "execution_count": 30,
   "metadata": {},
   "outputs": [
    {
     "data": {
      "text/plain": [
       "<Axes: ylabel='Density'>"
      ]
     },
     "execution_count": 30,
     "metadata": {},
     "output_type": "execute_result"
    },
    {
     "data": {
      "image/png": "[encoded data removed]",
      "text/plain": [
       "<Figure size 640x480 with 1 Axes>"
      ]
     },
     "metadata": {},
     "output_type": "display_data"
    }
   ],
   "source": [
    "#Estimación de Densidad Kernel (KDE) para la columna \"Childre\"\n",
    "df[\"Children\"].plot.kde()"
   ]
  }
 ],
 "metadata": {
  "kernelspec": {
   "display_name": ".venv",
   "language": "python",
   "name": "python3"
  },
  "language_info": {
   "codemirror_mode": {
    "name": "ipython",
    "version": 3
   },
   "file_extension": ".py",
   "mimetype": "text/x-python",
   "name": "python",
   "nbconvert_exporter": "python",
   "pygments_lexer": "ipython3",
   "version": "3.13.0"
  }
 },
 "nbformat": 4,
 "nbformat_minor": 2
}
